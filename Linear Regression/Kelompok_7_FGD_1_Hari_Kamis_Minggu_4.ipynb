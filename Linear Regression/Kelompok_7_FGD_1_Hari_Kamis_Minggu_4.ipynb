{
  "nbformat": 4,
  "nbformat_minor": 0,
  "metadata": {
    "colab": {
      "name": "Kelompok 7 FGD 1 Hari Kamis Minggu 4.ipynb",
      "provenance": [],
      "collapsed_sections": []
    },
    "kernelspec": {
      "name": "python3",
      "display_name": "Python 3"
    },
    "language_info": {
      "name": "python"
    }
  },
  "cells": [
    {
      "cell_type": "markdown",
      "source": [
        "**KELOMPOK 7**\n",
        "\n",
        "Rafi Aziizi Muchtar\n",
        "\n",
        "Sandy Dwi Cahyo\n",
        "\n",
        "Yosua Chrisarga Manuntun Marpaung"
      ],
      "metadata": {
        "id": "GwBi0IcojCfQ"
      }
    },
    {
      "cell_type": "markdown",
      "source": [
        "# LINEAR REGRESSION IMPLEMENTATION"
      ],
      "metadata": {
        "id": "cQeEFGb_jNO4"
      }
    },
    {
      "cell_type": "code",
      "source": [
        "# melakukan import beberapa library penting\n",
        "import pandas as pd\n",
        "import numpy as np\n",
        "import matplotlib.pyplot as plt\n",
        "import seaborn as sns\n",
        "import warnings\n",
        "warnings.filterwarnings('ignore')\n",
        "%matplotlib inline\n",
        "from sklearn.linear_model import LinearRegression"
      ],
      "metadata": {
        "id": "15R1tRdJjQ5J"
      },
      "execution_count": null,
      "outputs": []
    },
    {
      "cell_type": "markdown",
      "source": [
        "LOAD UP THE DATA + PLOTTING DATA"
      ],
      "metadata": {
        "id": "N3NI6NEV8xpg"
      }
    },
    {
      "cell_type": "code",
      "source": [
        "#membaca isi dataset dan melihat pola kolom dataset dengan 5 data teratas.\n",
        "data = pd.read_csv('bankloanscustom.csv')\n",
        "data.head()"
      ],
      "metadata": {
        "colab": {
          "base_uri": "https://localhost:8080/",
          "height": 206
        },
        "id": "M0D7aJ5FjRAp",
        "outputId": "7fb88bee-f1b9-4ea7-eabb-a91658e70bef"
      },
      "execution_count": null,
      "outputs": [
        {
          "output_type": "execute_result",
          "data": {
            "text/plain": [
              "   age  ed  employ  address  income  debtinc  creddebt   othdebt  default\n",
              "0   23   1       3        4      13      3.1  0.045539  0.357461      NaN\n",
              "1   23   1       3        4      13      3.1  0.045539  0.357461      NaN\n",
              "2   23   1       3        4      13      3.1  0.045539  0.357461      NaN\n",
              "3   26   1       0        0      14      7.5  0.302400  0.747600      1.0\n",
              "4   29   1       2        0      14     14.4  0.586656  1.429344      1.0"
            ],
            "text/html": [
              "\n",
              "  <div id=\"df-2e21df0a-7a5f-4a98-ad99-df4b764b05bd\">\n",
              "    <div class=\"colab-df-container\">\n",
              "      <div>\n",
              "<style scoped>\n",
              "    .dataframe tbody tr th:only-of-type {\n",
              "        vertical-align: middle;\n",
              "    }\n",
              "\n",
              "    .dataframe tbody tr th {\n",
              "        vertical-align: top;\n",
              "    }\n",
              "\n",
              "    .dataframe thead th {\n",
              "        text-align: right;\n",
              "    }\n",
              "</style>\n",
              "<table border=\"1\" class=\"dataframe\">\n",
              "  <thead>\n",
              "    <tr style=\"text-align: right;\">\n",
              "      <th></th>\n",
              "      <th>age</th>\n",
              "      <th>ed</th>\n",
              "      <th>employ</th>\n",
              "      <th>address</th>\n",
              "      <th>income</th>\n",
              "      <th>debtinc</th>\n",
              "      <th>creddebt</th>\n",
              "      <th>othdebt</th>\n",
              "      <th>default</th>\n",
              "    </tr>\n",
              "  </thead>\n",
              "  <tbody>\n",
              "    <tr>\n",
              "      <th>0</th>\n",
              "      <td>23</td>\n",
              "      <td>1</td>\n",
              "      <td>3</td>\n",
              "      <td>4</td>\n",
              "      <td>13</td>\n",
              "      <td>3.1</td>\n",
              "      <td>0.045539</td>\n",
              "      <td>0.357461</td>\n",
              "      <td>NaN</td>\n",
              "    </tr>\n",
              "    <tr>\n",
              "      <th>1</th>\n",
              "      <td>23</td>\n",
              "      <td>1</td>\n",
              "      <td>3</td>\n",
              "      <td>4</td>\n",
              "      <td>13</td>\n",
              "      <td>3.1</td>\n",
              "      <td>0.045539</td>\n",
              "      <td>0.357461</td>\n",
              "      <td>NaN</td>\n",
              "    </tr>\n",
              "    <tr>\n",
              "      <th>2</th>\n",
              "      <td>23</td>\n",
              "      <td>1</td>\n",
              "      <td>3</td>\n",
              "      <td>4</td>\n",
              "      <td>13</td>\n",
              "      <td>3.1</td>\n",
              "      <td>0.045539</td>\n",
              "      <td>0.357461</td>\n",
              "      <td>NaN</td>\n",
              "    </tr>\n",
              "    <tr>\n",
              "      <th>3</th>\n",
              "      <td>26</td>\n",
              "      <td>1</td>\n",
              "      <td>0</td>\n",
              "      <td>0</td>\n",
              "      <td>14</td>\n",
              "      <td>7.5</td>\n",
              "      <td>0.302400</td>\n",
              "      <td>0.747600</td>\n",
              "      <td>1.0</td>\n",
              "    </tr>\n",
              "    <tr>\n",
              "      <th>4</th>\n",
              "      <td>29</td>\n",
              "      <td>1</td>\n",
              "      <td>2</td>\n",
              "      <td>0</td>\n",
              "      <td>14</td>\n",
              "      <td>14.4</td>\n",
              "      <td>0.586656</td>\n",
              "      <td>1.429344</td>\n",
              "      <td>1.0</td>\n",
              "    </tr>\n",
              "  </tbody>\n",
              "</table>\n",
              "</div>\n",
              "      <button class=\"colab-df-convert\" onclick=\"convertToInteractive('df-2e21df0a-7a5f-4a98-ad99-df4b764b05bd')\"\n",
              "              title=\"Convert this dataframe to an interactive table.\"\n",
              "              style=\"display:none;\">\n",
              "        \n",
              "  <svg xmlns=\"http://www.w3.org/2000/svg\" height=\"24px\"viewBox=\"0 0 24 24\"\n",
              "       width=\"24px\">\n",
              "    <path d=\"M0 0h24v24H0V0z\" fill=\"none\"/>\n",
              "    <path d=\"M18.56 5.44l.94 2.06.94-2.06 2.06-.94-2.06-.94-.94-2.06-.94 2.06-2.06.94zm-11 1L8.5 8.5l.94-2.06 2.06-.94-2.06-.94L8.5 2.5l-.94 2.06-2.06.94zm10 10l.94 2.06.94-2.06 2.06-.94-2.06-.94-.94-2.06-.94 2.06-2.06.94z\"/><path d=\"M17.41 7.96l-1.37-1.37c-.4-.4-.92-.59-1.43-.59-.52 0-1.04.2-1.43.59L10.3 9.45l-7.72 7.72c-.78.78-.78 2.05 0 2.83L4 21.41c.39.39.9.59 1.41.59.51 0 1.02-.2 1.41-.59l7.78-7.78 2.81-2.81c.8-.78.8-2.07 0-2.86zM5.41 20L4 18.59l7.72-7.72 1.47 1.35L5.41 20z\"/>\n",
              "  </svg>\n",
              "      </button>\n",
              "      \n",
              "  <style>\n",
              "    .colab-df-container {\n",
              "      display:flex;\n",
              "      flex-wrap:wrap;\n",
              "      gap: 12px;\n",
              "    }\n",
              "\n",
              "    .colab-df-convert {\n",
              "      background-color: #E8F0FE;\n",
              "      border: none;\n",
              "      border-radius: 50%;\n",
              "      cursor: pointer;\n",
              "      display: none;\n",
              "      fill: #1967D2;\n",
              "      height: 32px;\n",
              "      padding: 0 0 0 0;\n",
              "      width: 32px;\n",
              "    }\n",
              "\n",
              "    .colab-df-convert:hover {\n",
              "      background-color: #E2EBFA;\n",
              "      box-shadow: 0px 1px 2px rgba(60, 64, 67, 0.3), 0px 1px 3px 1px rgba(60, 64, 67, 0.15);\n",
              "      fill: #174EA6;\n",
              "    }\n",
              "\n",
              "    [theme=dark] .colab-df-convert {\n",
              "      background-color: #3B4455;\n",
              "      fill: #D2E3FC;\n",
              "    }\n",
              "\n",
              "    [theme=dark] .colab-df-convert:hover {\n",
              "      background-color: #434B5C;\n",
              "      box-shadow: 0px 1px 3px 1px rgba(0, 0, 0, 0.15);\n",
              "      filter: drop-shadow(0px 1px 2px rgba(0, 0, 0, 0.3));\n",
              "      fill: #FFFFFF;\n",
              "    }\n",
              "  </style>\n",
              "\n",
              "      <script>\n",
              "        const buttonEl =\n",
              "          document.querySelector('#df-2e21df0a-7a5f-4a98-ad99-df4b764b05bd button.colab-df-convert');\n",
              "        buttonEl.style.display =\n",
              "          google.colab.kernel.accessAllowed ? 'block' : 'none';\n",
              "\n",
              "        async function convertToInteractive(key) {\n",
              "          const element = document.querySelector('#df-2e21df0a-7a5f-4a98-ad99-df4b764b05bd');\n",
              "          const dataTable =\n",
              "            await google.colab.kernel.invokeFunction('convertToInteractive',\n",
              "                                                     [key], {});\n",
              "          if (!dataTable) return;\n",
              "\n",
              "          const docLinkHtml = 'Like what you see? Visit the ' +\n",
              "            '<a target=\"_blank\" href=https://colab.research.google.com/notebooks/data_table.ipynb>data table notebook</a>'\n",
              "            + ' to learn more about interactive tables.';\n",
              "          element.innerHTML = '';\n",
              "          dataTable['output_type'] = 'display_data';\n",
              "          await google.colab.output.renderOutput(dataTable, element);\n",
              "          const docLink = document.createElement('div');\n",
              "          docLink.innerHTML = docLinkHtml;\n",
              "          element.appendChild(docLink);\n",
              "        }\n",
              "      </script>\n",
              "    </div>\n",
              "  </div>\n",
              "  "
            ]
          },
          "metadata": {},
          "execution_count": 49
        }
      ]
    },
    {
      "cell_type": "code",
      "source": [
        "#melakukan plotting data pada sebuah histogram dengan variable x merupakan income bersih(income-debtinc) dan y merupakan totaldebt(creditdebt+otherdebt)\n",
        "import matplotlib.pyplot as plt\n",
        "income=data['income']-data['debtinc']\n",
        "debt=data['creddebt']+data['othdebt']\n",
        "plt.scatter(income, debt)\n",
        "plt.title('Credit Risk Analysis')\n",
        "plt.xlabel('Income with Debt Income')\n",
        "plt.ylabel('All Of Debt')\n",
        "plt.show()\n",
        "#data disimpulkan bahwa terjadi penumpukan orang yang memiliki income bersih pada rentang 0 hingga 75 dan memiliki utang dikisaran 0 hingga 15 setiap gajian pada 1 bulannya."
      ],
      "metadata": {
        "colab": {
          "base_uri": "https://localhost:8080/",
          "height": 295
        },
        "id": "LFvnp6M2p7pF",
        "outputId": "f4bdea96-b996-4711-8986-8526d22ecf5e"
      },
      "execution_count": null,
      "outputs": [
        {
          "output_type": "display_data",
          "data": {
            "text/plain": [
              "<Figure size 432x288 with 1 Axes>"
            ],
            "image/png": "[encoded data removed]"
          },
          "metadata": {
            "needs_background": "light"
          }
        }
      ]
    },
    {
      "cell_type": "markdown",
      "source": [
        "PREDICTION CREDIT RISK USING SKLEARN"
      ],
      "metadata": {
        "id": "bF0ukk018oSC"
      }
    },
    {
      "cell_type": "code",
      "source": [
        "#melakukan inisialisasi variable X dan Y berdasarkan dataset\n",
        "#X merupakan data bersih penghasilan (income-debtincome)\n",
        "#Y merupakan total keseluruhan hutang (data creditdebt+otherdebt)\n",
        "X = data.income[:,np.newaxis]-data.debtinc[:,np.newaxis]  # Reshape\n",
        "y = data.creddebt+data.othdebt"
      ],
      "metadata": {
        "id": "Mfekr5k7wU73"
      },
      "execution_count": null,
      "outputs": []
    },
    {
      "cell_type": "code",
      "source": [
        "#inisialisasi fungsi LinearRegression pada variable regressor\n",
        "#melakukan training dari variable X dan Y\n",
        "regressor = LinearRegression()\n",
        "regressor.fit(X, y)"
      ],
      "metadata": {
        "id": "4cjEUP84wdEo"
      },
      "execution_count": null,
      "outputs": []
    },
    {
      "cell_type": "code",
      "source": [
        "#melakukan prediksi terhadap data X yang dimasukan kedalam nilai y_pred\n",
        "y_pred = regressor.predict(X)"
      ],
      "metadata": {
        "id": "xlX1mSkXwfe1"
      },
      "execution_count": null,
      "outputs": []
    },
    {
      "cell_type": "code",
      "source": [
        "#Melakukan visualisasi data dan mendapatkan prediksi linear regression berdasarkan data X dan hasil prediksi.\n",
        "plt.scatter(X, y)\n",
        "plt.plot(X, y_pred, \"r-\")\n",
        "plt.title('Credit Risk Analysis')\n",
        "plt.xlabel('Income with Debt Income')\n",
        "plt.ylabel('All Of Debt')\n",
        "plt.show()"
      ],
      "metadata": {
        "colab": {
          "base_uri": "https://localhost:8080/",
          "height": 295
        },
        "id": "kzKxeeJCwi3i",
        "outputId": "847786ea-b44c-485f-b1d0-9941d22d107e"
      },
      "execution_count": null,
      "outputs": [
        {
          "output_type": "display_data",
          "data": {
            "text/plain": [
              "<Figure size 432x288 with 1 Axes>"
            ],
            "image/png": "[encoded data removed]"
          },
          "metadata": {
            "needs_background": "light"
          }
        }
      ]
    },
    {
      "cell_type": "code",
      "source": [
        " # Melakukan prediksi bahwa apabila memiliki income 130 maka akan nilai optimum untuk memiliki hutang dalam credit risk yaitu 10-12\n",
        "plt.scatter(X, y)\n",
        "plt.plot(X, y_pred, \"r-\")\n",
        "plt.title('Credit Risk Analysis')\n",
        "plt.xlabel('Income with Debt Income')\n",
        "plt.ylabel('All Of Debt')\n",
        "plt.axvline(x=130,c='g');"
      ],
      "metadata": {
        "colab": {
          "base_uri": "https://localhost:8080/",
          "height": 295
        },
        "id": "7dyIKEe175lI",
        "outputId": "db5e49c6-c4bf-4923-fab9-55b4bdedbfdc"
      },
      "execution_count": null,
      "outputs": [
        {
          "output_type": "display_data",
          "data": {
            "text/plain": [
              "<Figure size 432x288 with 1 Axes>"
            ],
            "image/png": "[encoded data removed]"
          },
          "metadata": {
            "needs_background": "light"
          }
        }
      ]
    },
    {
      "cell_type": "markdown",
      "source": [
        "MULTIVARIATE LINEAR REGRESSION"
      ],
      "metadata": {
        "id": "V5OOPqB28kUy"
      }
    },
    {
      "cell_type": "code",
      "source": [
        "#membaca isi dataset dan melihat pola kolom dataset dengan 5 data teratas.\n",
        "bank = pd.read_csv(\"bankloans.csv\")\n",
        "bank.head()"
      ],
      "metadata": {
        "colab": {
          "base_uri": "https://localhost:8080/",
          "height": 206
        },
        "id": "t8iISX-S83Ud",
        "outputId": "068f6ff0-f042-4868-a33a-2a7d6b8de027"
      },
      "execution_count": null,
      "outputs": [
        {
          "output_type": "execute_result",
          "data": {
            "text/plain": [
              "   age  ed  employ  address  income  debtinc   creddebt   othdebt  default\n",
              "0   41   3      17       12     176      9.3  11.359392  5.008608      1.0\n",
              "1   27   1      10        6      31     17.3   1.362202  4.000798      0.0\n",
              "2   40   1      15       14      55      5.5   0.856075  2.168925      0.0\n",
              "3   41   1      15       14     120      2.9   2.658720  0.821280      0.0\n",
              "4   24   2       2        0      28     17.3   1.787436  3.056564      1.0"
            ],
            "text/html": [
              "\n",
              "  <div id=\"df-4145014d-1d8f-4227-8c35-4f40ddc0df9b\">\n",
              "    <div class=\"colab-df-container\">\n",
              "      <div>\n",
              "<style scoped>\n",
              "    .dataframe tbody tr th:only-of-type {\n",
              "        vertical-align: middle;\n",
              "    }\n",
              "\n",
              "    .dataframe tbody tr th {\n",
              "        vertical-align: top;\n",
              "    }\n",
              "\n",
              "    .dataframe thead th {\n",
              "        text-align: right;\n",
              "    }\n",
              "</style>\n",
              "<table border=\"1\" class=\"dataframe\">\n",
              "  <thead>\n",
              "    <tr style=\"text-align: right;\">\n",
              "      <th></th>\n",
              "      <th>age</th>\n",
              "      <th>ed</th>\n",
              "      <th>employ</th>\n",
              "      <th>address</th>\n",
              "      <th>income</th>\n",
              "      <th>debtinc</th>\n",
              "      <th>creddebt</th>\n",
              "      <th>othdebt</th>\n",
              "      <th>default</th>\n",
              "    </tr>\n",
              "  </thead>\n",
              "  <tbody>\n",
              "    <tr>\n",
              "      <th>0</th>\n",
              "      <td>41</td>\n",
              "      <td>3</td>\n",
              "      <td>17</td>\n",
              "      <td>12</td>\n",
              "      <td>176</td>\n",
              "      <td>9.3</td>\n",
              "      <td>11.359392</td>\n",
              "      <td>5.008608</td>\n",
              "      <td>1.0</td>\n",
              "    </tr>\n",
              "    <tr>\n",
              "      <th>1</th>\n",
              "      <td>27</td>\n",
              "      <td>1</td>\n",
              "      <td>10</td>\n",
              "      <td>6</td>\n",
              "      <td>31</td>\n",
              "      <td>17.3</td>\n",
              "      <td>1.362202</td>\n",
              "      <td>4.000798</td>\n",
              "      <td>0.0</td>\n",
              "    </tr>\n",
              "    <tr>\n",
              "      <th>2</th>\n",
              "      <td>40</td>\n",
              "      <td>1</td>\n",
              "      <td>15</td>\n",
              "      <td>14</td>\n",
              "      <td>55</td>\n",
              "      <td>5.5</td>\n",
              "      <td>0.856075</td>\n",
              "      <td>2.168925</td>\n",
              "      <td>0.0</td>\n",
              "    </tr>\n",
              "    <tr>\n",
              "      <th>3</th>\n",
              "      <td>41</td>\n",
              "      <td>1</td>\n",
              "      <td>15</td>\n",
              "      <td>14</td>\n",
              "      <td>120</td>\n",
              "      <td>2.9</td>\n",
              "      <td>2.658720</td>\n",
              "      <td>0.821280</td>\n",
              "      <td>0.0</td>\n",
              "    </tr>\n",
              "    <tr>\n",
              "      <th>4</th>\n",
              "      <td>24</td>\n",
              "      <td>2</td>\n",
              "      <td>2</td>\n",
              "      <td>0</td>\n",
              "      <td>28</td>\n",
              "      <td>17.3</td>\n",
              "      <td>1.787436</td>\n",
              "      <td>3.056564</td>\n",
              "      <td>1.0</td>\n",
              "    </tr>\n",
              "  </tbody>\n",
              "</table>\n",
              "</div>\n",
              "      <button class=\"colab-df-convert\" onclick=\"convertToInteractive('df-4145014d-1d8f-4227-8c35-4f40ddc0df9b')\"\n",
              "              title=\"Convert this dataframe to an interactive table.\"\n",
              "              style=\"display:none;\">\n",
              "        \n",
              "  <svg xmlns=\"http://www.w3.org/2000/svg\" height=\"24px\"viewBox=\"0 0 24 24\"\n",
              "       width=\"24px\">\n",
              "    <path d=\"M0 0h24v24H0V0z\" fill=\"none\"/>\n",
              "    <path d=\"M18.56 5.44l.94 2.06.94-2.06 2.06-.94-2.06-.94-.94-2.06-.94 2.06-2.06.94zm-11 1L8.5 8.5l.94-2.06 2.06-.94-2.06-.94L8.5 2.5l-.94 2.06-2.06.94zm10 10l.94 2.06.94-2.06 2.06-.94-2.06-.94-.94-2.06-.94 2.06-2.06.94z\"/><path d=\"M17.41 7.96l-1.37-1.37c-.4-.4-.92-.59-1.43-.59-.52 0-1.04.2-1.43.59L10.3 9.45l-7.72 7.72c-.78.78-.78 2.05 0 2.83L4 21.41c.39.39.9.59 1.41.59.51 0 1.02-.2 1.41-.59l7.78-7.78 2.81-2.81c.8-.78.8-2.07 0-2.86zM5.41 20L4 18.59l7.72-7.72 1.47 1.35L5.41 20z\"/>\n",
              "  </svg>\n",
              "      </button>\n",
              "      \n",
              "  <style>\n",
              "    .colab-df-container {\n",
              "      display:flex;\n",
              "      flex-wrap:wrap;\n",
              "      gap: 12px;\n",
              "    }\n",
              "\n",
              "    .colab-df-convert {\n",
              "      background-color: #E8F0FE;\n",
              "      border: none;\n",
              "      border-radius: 50%;\n",
              "      cursor: pointer;\n",
              "      display: none;\n",
              "      fill: #1967D2;\n",
              "      height: 32px;\n",
              "      padding: 0 0 0 0;\n",
              "      width: 32px;\n",
              "    }\n",
              "\n",
              "    .colab-df-convert:hover {\n",
              "      background-color: #E2EBFA;\n",
              "      box-shadow: 0px 1px 2px rgba(60, 64, 67, 0.3), 0px 1px 3px 1px rgba(60, 64, 67, 0.15);\n",
              "      fill: #174EA6;\n",
              "    }\n",
              "\n",
              "    [theme=dark] .colab-df-convert {\n",
              "      background-color: #3B4455;\n",
              "      fill: #D2E3FC;\n",
              "    }\n",
              "\n",
              "    [theme=dark] .colab-df-convert:hover {\n",
              "      background-color: #434B5C;\n",
              "      box-shadow: 0px 1px 3px 1px rgba(0, 0, 0, 0.15);\n",
              "      filter: drop-shadow(0px 1px 2px rgba(0, 0, 0, 0.3));\n",
              "      fill: #FFFFFF;\n",
              "    }\n",
              "  </style>\n",
              "\n",
              "      <script>\n",
              "        const buttonEl =\n",
              "          document.querySelector('#df-4145014d-1d8f-4227-8c35-4f40ddc0df9b button.colab-df-convert');\n",
              "        buttonEl.style.display =\n",
              "          google.colab.kernel.accessAllowed ? 'block' : 'none';\n",
              "\n",
              "        async function convertToInteractive(key) {\n",
              "          const element = document.querySelector('#df-4145014d-1d8f-4227-8c35-4f40ddc0df9b');\n",
              "          const dataTable =\n",
              "            await google.colab.kernel.invokeFunction('convertToInteractive',\n",
              "                                                     [key], {});\n",
              "          if (!dataTable) return;\n",
              "\n",
              "          const docLinkHtml = 'Like what you see? Visit the ' +\n",
              "            '<a target=\"_blank\" href=https://colab.research.google.com/notebooks/data_table.ipynb>data table notebook</a>'\n",
              "            + ' to learn more about interactive tables.';\n",
              "          element.innerHTML = '';\n",
              "          dataTable['output_type'] = 'display_data';\n",
              "          await google.colab.output.renderOutput(dataTable, element);\n",
              "          const docLink = document.createElement('div');\n",
              "          docLink.innerHTML = docLinkHtml;\n",
              "          element.appendChild(docLink);\n",
              "        }\n",
              "      </script>\n",
              "    </div>\n",
              "  </div>\n",
              "  "
            ]
          },
          "metadata": {},
          "execution_count": 109
        }
      ]
    },
    {
      "cell_type": "code",
      "source": [
        "# Inisialisasi variable X sebagai seluruh data pada kolom\n",
        "# Inisialisasi variable Y sebagai data hutang yaitu kolom creddebt dan otherdebt\n",
        "X = bank.iloc[:,:-1]\n",
        "y = bank.creddebt+bank.othdebt"
      ],
      "metadata": {
        "id": "vQvy9Exp-GaT"
      },
      "execution_count": null,
      "outputs": []
    },
    {
      "cell_type": "code",
      "source": [
        "#Melakukan import library LinearRegression, memanggil fungsi LinearRegression pada variable Regressor\n",
        "#Melakukan training data menggunakan LinearRegression berdasarkan data X dan y\n",
        "from sklearn.linear_model import LinearRegression\n",
        "regressor = LinearRegression() \n",
        "regressor.fit(X, y)"
      ],
      "metadata": {
        "colab": {
          "base_uri": "https://localhost:8080/"
        },
        "id": "b3-kTNpM-XYj",
        "outputId": "33ffb5a4-10a7-4c6f-e1cc-b3e23d1f7681"
      },
      "execution_count": null,
      "outputs": [
        {
          "output_type": "execute_result",
          "data": {
            "text/plain": [
              "LinearRegression()"
            ]
          },
          "metadata": {},
          "execution_count": 125
        }
      ]
    },
    {
      "cell_type": "code",
      "source": [
        "#Menghitung nilai intercepet dan koefisien dari proses training tersebut\n",
        "print(\"intercept:\", regressor.intercept_)\n",
        "print(\"coefficients of predictors:\", regressor.coef_)"
      ],
      "metadata": {
        "colab": {
          "base_uri": "https://localhost:8080/"
        },
        "id": "sUoINvLK-ab-",
        "outputId": "d7cae42b-0031-4fff-aa09-f0f257a2dbae"
      },
      "execution_count": null,
      "outputs": [
        {
          "output_type": "stream",
          "name": "stdout",
          "text": [
            "intercept: 5.329070518200751e-15\n",
            "coefficients of predictors: [-2.40716123e-16 -1.95676808e-15 -1.38777878e-16  1.00613962e-16\n",
            "  5.55111512e-17  4.04156689e-16  1.00000000e+00  1.00000000e+00]\n"
          ]
        }
      ]
    },
    {
      "cell_type": "code",
      "source": [
        "#Memannggil seluruh isi dari data ke 18 pada variable X\n",
        "risk = X.iloc[18]\n",
        "risk"
      ],
      "metadata": {
        "colab": {
          "base_uri": "https://localhost:8080/"
        },
        "id": "Ba9O3XmY-h1x",
        "outputId": "82a9fd93-4880-4746-e8b3-3329241696aa"
      },
      "execution_count": null,
      "outputs": [
        {
          "output_type": "execute_result",
          "data": {
            "text/plain": [
              "age         39.000000\n",
              "ed           1.000000\n",
              "employ       6.000000\n",
              "address      9.000000\n",
              "income      61.000000\n",
              "debtinc      5.700000\n",
              "creddebt     0.563274\n",
              "othdebt      2.913726\n",
              "Name: 18, dtype: float64"
            ]
          },
          "metadata": {},
          "execution_count": 127
        }
      ]
    },
    {
      "cell_type": "code",
      "source": [
        "#melakukan prediksi nilai hutang optimum pada data \n",
        "pred_my_risk = regressor.predict(risk.values.reshape(1, -1))\n",
        "print(\"predicted value:\", pred_my_risk[0])"
      ],
      "metadata": {
        "colab": {
          "base_uri": "https://localhost:8080/"
        },
        "id": "_U6mnk-S-qOf",
        "outputId": "f615774f-7c4a-49bd-fbe9-d3f231910be4"
      },
      "execution_count": null,
      "outputs": [
        {
          "output_type": "stream",
          "name": "stdout",
          "text": [
            "predicted value: 3.4770000000000003\n"
          ]
        }
      ]
    },
    {
      "cell_type": "code",
      "source": [
        "#Memanggil nilai asli perhitungan hutang (creddebt+othdebt) dari data ke 18\n",
        "print(\"actual value:\", y[18])"
      ],
      "metadata": {
        "colab": {
          "base_uri": "https://localhost:8080/"
        },
        "id": "sHXkpM8L-vxz",
        "outputId": "4bfa8003-28e0-4375-9b98-52c47e6931bc"
      },
      "execution_count": null,
      "outputs": [
        {
          "output_type": "stream",
          "name": "stdout",
          "text": [
            "actual value: 3.4770000000000003\n"
          ]
        }
      ]
    },
    {
      "cell_type": "code",
      "source": [
        "# Melakukan prediksi terhadap data X menggunakan Linear Regression\n",
        "y_pred = regressor.predict(X)\n",
        "y_pred[:10]"
      ],
      "metadata": {
        "colab": {
          "base_uri": "https://localhost:8080/"
        },
        "id": "VojCTMzU-0On",
        "outputId": "369c5b76-aeda-499b-cfbd-65e23d5df31b"
      },
      "execution_count": null,
      "outputs": [
        {
          "output_type": "execute_result",
          "data": {
            "text/plain": [
              "array([16.368,  5.363,  3.025,  3.48 ,  4.844,  2.55 , 20.502,  1.368,\n",
              "        4.636,  4.925])"
            ]
          },
          "metadata": {},
          "execution_count": 130
        }
      ]
    },
    {
      "cell_type": "code",
      "source": [
        "#Membandingkan nilai hasil prediksi dengan nilai asli pada total data hutang yaitu (creddebt+othdebt) menggunakan dataframe\n",
        "checkdebt = pd.DataFrame({\"actual\": y,\n",
        "          \"predicted\": y_pred})\n",
        "print(checkdebt)"
      ],
      "metadata": {
        "colab": {
          "base_uri": "https://localhost:8080/"
        },
        "id": "fTlElAuA-3eO",
        "outputId": "7d8091c2-8713-44f9-b650-d4b952bb0c5c"
      },
      "execution_count": null,
      "outputs": [
        {
          "output_type": "stream",
          "name": "stdout",
          "text": [
            "      actual  predicted\n",
            "0     16.368     16.368\n",
            "1      5.363      5.363\n",
            "2      3.025      3.025\n",
            "3      3.480      3.480\n",
            "4      4.844      4.844\n",
            "...      ...        ...\n",
            "1145   0.864      0.864\n",
            "1146   6.612      6.612\n",
            "1147   4.104      4.104\n",
            "1148   1.872      1.872\n",
            "1149   5.289      5.289\n",
            "\n",
            "[1150 rows x 2 columns]\n"
          ]
        }
      ]
    }
  ]
}